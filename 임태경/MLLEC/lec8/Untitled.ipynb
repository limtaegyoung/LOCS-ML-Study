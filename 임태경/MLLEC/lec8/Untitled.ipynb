{
 "cells": [
  {
   "cell_type": "markdown",
   "metadata": {},
   "source": [
    "# 딥러닝의 기본 개념: 시작과 XOR문제"
   ]
  },
  {
   "cell_type": "markdown",
   "metadata": {},
   "source": [
    "### AND/OR problem:linearly separable?\n",
    "\n",
    "or > 하나만 1이어도 1 나머진0\n",
    "and > 둘다1이어야1 나머진1\n",
    "\n",
    "### XOR problem:linearly separable?\n",
    "\n",
    "x1,x2가 같으면 0 다르면 1\n",
    "\n",
    "직선 1개로는 해결할수가 없었음\n",
    "\n",
    "MLP, 레이어가 여러개여야 풀수있음\n",
    "\n",
    "### convolutional neural networks\n",
    "\n",
    "학습할 데이터를 분할해서 학습한뒤 나중에 합치는 방법을 개발\n",
    "\n",
    "# back-propagation과 2006/2007 deep의 출현\n",
    "\n",
    "2006 논문에서 w초기값을 잘 주지못해 deep한 문제를 해결하지못한 것이라고 주장\n",
    "\n",
    "imagenet classification\n",
    "\n",
    "26% 오류율에서 15퍼센트까지 떨어졌음\n",
    "\n",
    "이미지에 대한 물체인식을 넘어서 상황까지도 파악할수있게됨\n",
    "\n",
    "deep api learning\n",
    "\n",
    "자연어를 코드어로 바꿀정도로 발전함\n",
    "\n",
    "(부동산을 딥러닝으로 구매할 집을 판단할수없을까?)\n",
    "\n",
    "# tensor Manipulation\n",
    "\n",
    "Axis -> 축\n",
    "\n",
    "axis = -1 제일안쪽에있는 축\n",
    "\n",
    "matmul과 matrix 끼리의 곱은 결과가 다르다\n",
    "\n",
    "### broadcasting\n",
    "\n",
    "matrix끼리의 연산에서 rank가 다름에도 연산을 가능하게 해준다.\n",
    "\n",
    "broadcasting을 잘 알고 사용한다면 powerful하지만 잘 모르고쓸경우 심각한 오류를 가져오게된다.\n",
    "\n",
    "squeeze, expand은 tensor의 shape를 변경시킴\n",
    "\n",
    "one hot을 할경우 원했던 shape보다 한단계높은 랭크가 나올텐데\n",
    "\n",
    "이럴때 reshape로 랭크를 한단계 낮춰주면된다\n",
    "\n"
   ]
  }
 ],
 "metadata": {
  "kernelspec": {
   "display_name": "Python [conda env:tensorflow]",
   "language": "python",
   "name": "conda-env-tensorflow-py"
  },
  "language_info": {
   "codemirror_mode": {
    "name": "ipython",
    "version": 3
   },
   "file_extension": ".py",
   "mimetype": "text/x-python",
   "name": "python",
   "nbconvert_exporter": "python",
   "pygments_lexer": "ipython3",
   "version": "3.6.5"
  }
 },
 "nbformat": 4,
 "nbformat_minor": 2
}
