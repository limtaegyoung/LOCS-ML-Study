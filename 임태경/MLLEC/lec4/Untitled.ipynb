{
 "cells": [
  {
   "cell_type": "markdown",
   "metadata": {},
   "source": [
    "# multi-variable linear regression"
   ]
  },
  {
   "cell_type": "code",
   "execution_count": 2,
   "metadata": {},
   "outputs": [],
   "source": [
    "import tensorflow as tf"
   ]
  },
  {
   "cell_type": "markdown",
   "metadata": {},
   "source": [
    "가설세우기H(x) > cost function 정의하기 > 코스트최적화하기\n",
    "\n",
    "여러개의 값을 가지는 multi-variable linear regression구현\n",
    "\n",
    "H(x1,x2,x3) = w1x1 + w2x2 + w3x3 + b\n",
    "\n",
    "Matrix를 이용해 항이 많아져도 쉽게 처리할수 있도록한다.\n",
    "\n",
    "H(x) = XW\n",
    "\n",
    "매트릭스를 쓸때는 앞에 X를 준다.\n",
    "\n",
    "학습할 인스턴스들이 많은경우 반복을 통해야 하지만\n",
    "\n",
    "Matrix를 이용하면 쉽게 계산가능(전체를 긴 matrix에넣고 w를 곱한다)\n",
    "\n",
    "[5, 3] [3, 1] 을 계산할때 안쪽의 수가 같아야하며 (3,3) 같을경우 바깥의 수가 곱의 matrix크기가 된다.\n",
    "\n",
    "-> [5,1] 매트릭스 결과\n",
    "\n",
    "5 -> 처리하고자하는 instance의 개수\n",
    "\n",
    "3 -> 처리하고자하는 variable의 개수\n",
    "\n",
    "H(x) = XW 에서 H(x)와 X만 알아도 W의 매트릭스크기를 알수있다."
   ]
  },
  {
   "cell_type": "code",
   "execution_count": null,
   "metadata": {},
   "outputs": [],
   "source": []
  }
 ],
 "metadata": {
  "kernelspec": {
   "display_name": "Python [conda env:tensorflow]",
   "language": "python",
   "name": "conda-env-tensorflow-py"
  },
  "language_info": {
   "codemirror_mode": {
    "name": "ipython",
    "version": 3
   },
   "file_extension": ".py",
   "mimetype": "text/x-python",
   "name": "python",
   "nbconvert_exporter": "python",
   "pygments_lexer": "ipython3",
   "version": "3.6.5"
  }
 },
 "nbformat": 4,
 "nbformat_minor": 2
}
