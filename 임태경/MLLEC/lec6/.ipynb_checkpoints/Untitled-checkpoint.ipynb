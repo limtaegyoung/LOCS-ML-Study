{
 "cells": [
  {
   "cell_type": "markdown",
   "metadata": {},
   "source": [
    "# Softmax Regression 기본 개념 소개\n",
    "\n",
    "여러개의 클래스가 있을때 그것을 예측하는 multinomial classification중에서도 가장많이 쓰는 softmax Regression 학습"
   ]
  },
  {
   "cell_type": "markdown",
   "metadata": {},
   "source": [
    "클래스가 3개 이상일때에도 binary classification로 구분이 가능하다\n",
    "\n",
    "A or not, B or not, C or not의 각각다른 binary classification으로도 구현가능\n",
    "\n",
    "x - [ a ] - y햇 -> [w1x1+w2x2+w3x3]\n",
    "\n",
    "x - [ b ] - y햇 -> [w1x1+w2x2+w3x3]\n",
    "\n",
    "x - [ c ] - y햇 -> [w1x1+w2x2+w3x3]\n",
    "(각각은독립) 을 각각 구현하면 복잡하고 어렵다.\n",
    "\n",
    " |\n",
    " \n",
    "[ WA1 WA2 WA3 ] [ x1\n",
    "\n",
    "  WB1 WB2 WB3     x2  \n",
    "\n",
    "[ WC1 WC2 WC3 ]   x3 ]\n",
    "\n",
    "= [ Y햇A Y햇b Y햇c ] (1x3)형태가 맞음"
   ]
  },
  {
   "cell_type": "markdown",
   "metadata": {},
   "source": [
    "# Softmax classifier의 cost함수\n",
    "\n",
    "y = [2.0, 1.0, 0.1] 라고 나온 데이터를 총합 1.0이되며 0~1사이의값을 가지는 값으로 바꾸고자한다.\n",
    "\n",
    "->> [0.7, 0.2, 0.1] 확률로써 볼수있다.\n",
    "\n",
    "one-hot encoding -> 하나만 1.0 나머지는 0.0으로 초기화\n",
    "\n",
    "Cost function\n",
    "\n",
    "cross-entropy \n",
    "\n",
    "y햇(예측값)과 y(실제값)의 차이를 구하기위해 크로스엔트로피 함수를 사용\n",
    "\n",
    "cross-entropy cost function\n",
    "\n",
    "...?\n",
    "\n",
    "Logistic cost VS cross entropy\n",
    "\n",
    "두개의 cost function이 서로 같은데 왜 같은지?"
   ]
  },
  {
   "cell_type": "code",
   "execution_count": 1,
   "metadata": {},
   "outputs": [],
   "source": [
    "import tensorflow as tf"
   ]
  },
  {
   "cell_type": "code",
   "execution_count": 10,
   "metadata": {},
   "outputs": [
    {
     "name": "stdout",
     "output_type": "stream",
     "text": [
      "0 1.7801747\n",
      "200 0.5346578\n",
      "400 0.43603125\n",
      "600 0.36040953\n",
      "800 0.28759658\n",
      "1000 0.2328547\n",
      "1200 0.21084216\n",
      "1400 0.19256131\n",
      "1600 0.17712098\n",
      "1800 0.16390885\n",
      "2000 0.15247944\n",
      "[[2.0452950e-03 9.9794394e-01 1.0733440e-05]] [1]\n",
      "[[2.0452950e-03 9.9794394e-01 1.0733440e-05]\n",
      " [9.1202778e-01 7.6882921e-02 1.1089298e-02]\n",
      " [1.4024616e-08 3.4610476e-04 9.9965394e-01]] [1 0 2]\n"
     ]
    }
   ],
   "source": [
    "x_data = [[1,2,1,1],[2,1,3,2],[3,1,3,4],[4,1,5,5],[1,7,5,5],[1,2,5,6],[1,6,6,6],[1,7,7,7]]\n",
    "y_data = [[0,0,1],[0,0,1],[0,0,1],[0,1,0],[0,1,0],[0,1,0],[1,0,0],[1,0,0]]\n",
    "## one-hot encoding 방식으로 표시를했음 2,2,2,1,1,1,0,0\n",
    "\n",
    "X = tf.placeholder(\"float\", [None, 4])\n",
    "Y = tf.placeholder(\"float\", [None, 3])\n",
    "## one-hot으로 표시할때는 y의 개수가 레이블의 갯수이다.\n",
    "nb_classes = 3\n",
    "\n",
    "W = tf.Variable(tf.random_normal([4, nb_classes]), name='weight')\n",
    "b = tf.Variable(tf.random_normal([nb_classes]), name='bias')\n",
    "\n",
    "hypothesis = tf.nn.softmax(tf.matmul(X, W) + b)\n",
    "\n",
    "cost = tf.reduce_mean(-tf.reduce_sum(Y * tf.log(hypothesis), axis=1))\n",
    "optimizer = tf.train.GradientDescentOptimizer(learning_rate=0.1).minimize(cost)\n",
    "\n",
    "with tf.Session() as sess:\n",
    "    sess.run(tf.global_variables_initializer())\n",
    "    \n",
    "    for step in range(2001):\n",
    "        sess.run(optimizer, feed_dict={X:x_data, Y:y_data})\n",
    "        if step % 200 == 0:\n",
    "            print(step, sess.run(cost, feed_dict={X:x_data, Y:y_data}))\n",
    "            \n",
    "    a = sess.run(hypothesis, feed_dict={X: [[1, 11, 7, 9]]})\n",
    "    print(a, sess.run(tf.argmax(a, 1)))\n",
    "    \n",
    "    all = sess.run(hypothesis, feed_dict={\n",
    "                   X: [[1, 11, 7, 9], [1, 3, 4, 3], [1, 1, 0, 1]]})\n",
    "    print(all, sess.run(tf.argmax(all, 1)))"
   ]
  },
  {
   "cell_type": "markdown",
   "metadata": {},
   "source": [
    "# TensorFlow로 Fancy Softmax Classification 구현하기"
   ]
  },
  {
   "cell_type": "markdown",
   "metadata": {},
   "source": [
    "softmax_cross_entropy_with_logits"
   ]
  },
  {
   "cell_type": "markdown",
   "metadata": {},
   "source": [
    "logits = tf.matmul(X, W) + b\n",
    "주어진 X에 대해서 학습할 W을 매트릭스곱을 한후 + bias\n",
    "\n",
    "hypothesis = tf.nn.softmax(logits)\n",
    "softmax머신에 통과시키면 확률로 계산이 되어서 나옴\n",
    "\n",
    "cost = tf.reduce_mean(-tf.reduce_sum(Y * tf.log(hypothesis), axis=1))\n",
    "Y > one hot으로 주어졌음\n",
    "\n",
    "cost_i = tf.nn.softmax_cross_entropy_with_logits(logits=logits, labels=Y_one_hot)\n",
    "cost = tf.reduce_mean(cost_i)\n",
    "\n",
    "### tf.one_hot and reshape\n",
    "\n",
    "Y = tf.placeholder(tf.int32, [None, 1]) x의 수는 n개 므로 None, y는 1 # 0~6, shape=(?, 1)\n",
    "                            \n",
    "Y_one_hot = tf.one_hot(Y, nb_classes) y(0~6), 몇개의 클래스를 줄것인지(7) # one hot shape=(?,1,7)\n",
    " \n",
    "Y_one_hot = tf.reshape(Y_one_hot, [-1, nb_classes]) # shape=(?,7)\n",
    "\n",
    "tf.reshape(텐서, [원하는 shape설정]) >> -1는 전체선택\n",
    "\n",
    "** onehot은 만약에 랭크가 N이면 output이 N+1을 준다.(한차원을 상승시킨다)\n",
    "(차원을 상승시키는이유 : 0,3의 element가 이어져서 보여지기때문에 구분하기힘들어진다\n",
    "\n",
    "[[0], [3]] =>  [[[1,0,0,0,0,0,0]], [[0,0,0,1,0,0,0]]]"
   ]
  },
  {
   "cell_type": "code",
   "execution_count": 11,
   "metadata": {},
   "outputs": [],
   "source": [
    "import tensorflow as tf"
   ]
  },
  {
   "cell_type": "code",
   "execution_count": null,
   "metadata": {},
   "outputs": [],
   "source": []
  }
 ],
 "metadata": {
  "kernelspec": {
   "display_name": "Python [conda env:tensorflow]",
   "language": "python",
   "name": "conda-env-tensorflow-py"
  },
  "language_info": {
   "codemirror_mode": {
    "name": "ipython",
    "version": 3
   },
   "file_extension": ".py",
   "mimetype": "text/x-python",
   "name": "python",
   "nbconvert_exporter": "python",
   "pygments_lexer": "ipython3",
   "version": "3.6.5"
  }
 },
 "nbformat": 4,
 "nbformat_minor": 2
}
