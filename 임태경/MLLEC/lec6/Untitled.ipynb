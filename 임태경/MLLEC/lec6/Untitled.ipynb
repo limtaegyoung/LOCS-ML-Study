{
 "cells": [
  {
   "cell_type": "markdown",
   "metadata": {},
   "source": [
    "# Softmax Regression 기본 개념 소개\n",
    "\n",
    "여러개의 클래스가 있을때 그것을 예측하는 multinomial classification중에서도 가장많이 쓰는 softmax Regression 학습"
   ]
  },
  {
   "cell_type": "markdown",
   "metadata": {},
   "source": [
    "클래스가 3개 이상일때에도 binary classification로 구분이 가능하다\n",
    "\n",
    "A or not, B or not, C or not의 각각다른 binary classification으로도 구현가능\n",
    "\n",
    "x - [ a ] - y햇 -> [w1x1+w2x2+w3x3]\n",
    "\n",
    "x - [ b ] - y햇 -> [w1x1+w2x2+w3x3]\n",
    "\n",
    "x - [ c ] - y햇 -> [w1x1+w2x2+w3x3]\n",
    "(각각은독립) 을 각각 구현하면 복잡하고 어렵다.\n",
    "\n",
    " |\n",
    " \n",
    "[ WA1 WA2 WA3 ] [ x1\n",
    "\n",
    "  WB1 WB2 WB3     x2  \n",
    "\n",
    "[ WC1 WC2 WC3 ]   x3 ]\n",
    "\n",
    "= [ Y햇A Y햇b Y햇c ] (1x3)형태가 맞음"
   ]
  },
  {
   "cell_type": "markdown",
   "metadata": {},
   "source": [
    "# Softmax classifier의 cost함수\n",
    "\n",
    "y = [2.0, 1.0, 0.1] 라고 나온 데이터를 총합 1.0이되며 0~1사이의값을 가지는 값으로 바꾸고자한다.\n",
    "\n",
    "->> [0.7, 0.2, 0.1] 확률로써 볼수있다.\n",
    "\n",
    "one-hot encoding -> 하나만 1.0 나머지는 0.0으로 초기화\n",
    "\n",
    "Cost function\n",
    "\n",
    "cross-entropy\n",
    "\n",
    "y햇(예측값)과 y(실제값)의 차이를 구하기위해 크로스엔트로피 함수를 사용\n",
    "\n",
    "cross-entropy cost function\n",
    "\n",
    "...?\n",
    "\n",
    "Logistic cost VS cross entropy\n",
    "\n",
    "두개의 cost function이 서로 같은데 왜 같은지?"
   ]
  },
  {
   "cell_type": "code",
   "execution_count": 1,
   "metadata": {},
   "outputs": [],
   "source": [
    "import tensorflow as tf"
   ]
  },
  {
   "cell_type": "code",
   "execution_count": 2,
   "metadata": {},
   "outputs": [
    {
     "name": "stdout",
     "output_type": "stream",
     "text": [
      "0 2.6410284\n",
      "200 0.6209566\n",
      "400 0.5047993\n",
      "600 0.42475915\n",
      "800 0.35358664\n",
      "1000 0.2818073\n",
      "1200 0.2327321\n",
      "1400 0.21134046\n",
      "1600 0.19338754\n",
      "1800 0.17812221\n",
      "2000 0.16499776\n",
      "[[8.8496767e-03 9.9114287e-01 7.4591067e-06]] [1]\n",
      "[[8.8496767e-03 9.9114287e-01 7.4591067e-06]\n",
      " [8.3207041e-01 1.5918599e-01 8.7435171e-03]\n",
      " [2.0910655e-08 3.6294176e-04 9.9963701e-01]] [1 0 2]\n"
     ]
    }
   ],
   "source": [
    "x_data = [[1,2,1,1],[2,1,3,2],[3,1,3,4],[4,1,5,5],[1,7,5,5],[1,2,5,6],[1,6,6,6],[1,7,7,7]]\n",
    "y_data = [[0,0,1],[0,0,1],[0,0,1],[0,1,0],[0,1,0],[0,1,0],[1,0,0],[1,0,0]]\n",
    "## one-hot encoding 방식으로 표시를했음 2,2,2,1,1,1,0,0\n",
    "\n",
    "X = tf.placeholder(\"float\", [None, 4])\n",
    "Y = tf.placeholder(\"float\", [None, 3])\n",
    "## one-hot으로 표시할때는 y의 개수가 레이블의 갯수이다.\n",
    "nb_classes = 3\n",
    "\n",
    "W = tf.Variable(tf.random_normal([4, nb_classes]), name='weight')\n",
    "b = tf.Variable(tf.random_normal([nb_classes]), name='bias')\n",
    "\n",
    "hypothesis = tf.nn.softmax(tf.matmul(X, W) + b)\n",
    "\n",
    "cost = tf.reduce_mean(-tf.reduce_sum(Y * tf.log(hypothesis), axis=1))\n",
    "optimizer = tf.train.GradientDescentOptimizer(learning_rate=0.1).minimize(cost)\n",
    "\n",
    "with tf.Session() as sess:\n",
    "    sess.run(tf.global_variables_initializer())\n",
    "    \n",
    "    for step in range(2001):\n",
    "        sess.run(optimizer, feed_dict={X:x_data, Y:y_data})\n",
    "        if step % 200 == 0:\n",
    "            print(step, sess.run(cost, feed_dict={X:x_data, Y:y_data}))\n",
    "            \n",
    "    a = sess.run(hypothesis, feed_dict={X: [[1, 11, 7, 9]]})\n",
    "    print(a, sess.run(tf.argmax(a, 1)))\n",
    "    \n",
    "    all = sess.run(hypothesis, feed_dict={\n",
    "                   X: [[1, 11, 7, 9], [1, 3, 4, 3], [1, 1, 0, 1]]})\n",
    "    print(all, sess.run(tf.argmax(all, 1)))"
   ]
  },
  {
   "cell_type": "markdown",
   "metadata": {},
   "source": [
    "# TensorFlow로 Fancy Softmax Classification 구현하기"
   ]
  },
  {
   "cell_type": "markdown",
   "metadata": {},
   "source": [
    "softmax_cross_entropy_with_logits"
   ]
  },
  {
   "cell_type": "markdown",
   "metadata": {},
   "source": [
    "logits = tf.matmul(X, W) + b\n",
    "주어진 X에 대해서 학습할 W을 매트릭스곱을 한후 + bias\n",
    "\n",
    "hypothesis = tf.nn.softmax(logits)\n",
    "softmax머신에 통과시키면 확률로 계산이 되어서 나옴\n",
    "\n",
    "cost = tf.reduce_mean(-tf.reduce_sum(Y * tf.log(hypothesis), axis=1))\n",
    "Y > one hot으로 주어졌음\n",
    "\n",
    "cost_i = tf.nn.softmax_cross_entropy_with_logits(logits=logits, labels=Y_one_hot)\n",
    "cost = tf.reduce_mean(cost_i)\n",
    "\n",
    "### tf.one_hot and reshape\n",
    "\n",
    "Y = tf.placeholder(tf.int32, [None, 1]) x의 수는 n개 므로 None, y는 1 # 0~6, shape=(?, 1)\n",
    "                            \n",
    "Y_one_hot = tf.one_hot(Y, nb_classes) y(0~6), 몇개의 클래스를 줄것인지(7) # one hot shape=(?,1,7)\n",
    " \n",
    "Y_one_hot = tf.reshape(Y_one_hot, [-1, nb_classes]) # shape=(?,7)\n",
    "\n",
    "tf.reshape(텐서, [원하는 shape설정]) >> -1는 전체선택 \n",
    "\n",
    "** onehot은 만약에 랭크가 N이면 output이 N+1을 준다.(한차원을 상승시킨다)\n",
    "(차원을 상승시키는이유 : 0,3의 element가 이어져서 보여지기때문에 구분하기힘들어진다\n",
    "\n",
    "[[0], [3]] =>  [[[1,0,0,0,0,0,0]], [[0,0,0,1,0,0,0]]]"
   ]
  },
  {
   "cell_type": "code",
   "execution_count": 1,
   "metadata": {},
   "outputs": [],
   "source": [
    "##tf.reset_default_graph()\n",
    "\n",
    "import tensorflow as tf\n",
    "import numpy as np"
   ]
  },
  {
   "cell_type": "code",
   "execution_count": 2,
   "metadata": {},
   "outputs": [],
   "source": [
    "xy = np.loadtxt('data-04-zoo.csv', delimiter=',', dtype=np.float32)\n",
    "x_data = xy[:, 0:-1]\n",
    "y_data = xy[:, [-1]]"
   ]
  },
  {
   "cell_type": "code",
   "execution_count": 3,
   "metadata": {},
   "outputs": [],
   "source": [
    "nb_classes = 7\n",
    "\n",
    "X = tf.placeholder(tf.float32, [None, 16])\n",
    "Y = tf.placeholder(tf.int32, [None, 1])"
   ]
  },
  {
   "cell_type": "code",
   "execution_count": 5,
   "metadata": {},
   "outputs": [],
   "source": [
    "Y_one_hot = tf.one_hot(Y, nb_classes)\n",
    "Y_one_hot = tf.reshape(Y_one_hot, [-1, nb_classes])"
   ]
  },
  {
   "cell_type": "code",
   "execution_count": null,
   "metadata": {},
   "outputs": [],
   "source": [
    "W = tf.Variable(tf.random_normal([16, nb_classes]), name='weight')\n",
    "b = tf.Variable(tf.random_normal([nb_classes]), name='bias')"
   ]
  },
  {
   "cell_type": "code",
   "execution_count": null,
   "metadata": {},
   "outputs": [],
   "source": [
    "logits = tf.matmul(X,W) + b\n",
    "hypothesis = tf.nn.softmax(logits)"
   ]
  },
  {
   "cell_type": "code",
   "execution_count": null,
   "metadata": {},
   "outputs": [],
   "source": [
    "cost_i = tf.nn.softmax_cross_entropy_with_logits(logits=logits, labels=Y_one_hot)"
   ]
  },
  {
   "cell_type": "code",
   "execution_count": null,
   "metadata": {},
   "outputs": [],
   "source": [
    "cost = tf.reduce_mean(cost_i)\n",
    "optimizer = tf.train.GradientDescentOptimizer(learning_rate=0.1).minimize(cost)"
   ]
  },
  {
   "cell_type": "code",
   "execution_count": null,
   "metadata": {},
   "outputs": [],
   "source": [
    "prediction = tf.argmax(hypothesis, 1)\n",
    "correct_prediction = tf.equal(prediction, tf.argmax(Y_one_hot, 1))\n",
    "accuracy = tf.reduce_mean(tf.cast(correct_prediction, tf.float32))"
   ]
  },
  {
   "cell_type": "code",
   "execution_count": 23,
   "metadata": {},
   "outputs": [
    {
     "name": "stdout",
     "output_type": "stream",
     "text": [
      "Step:     0\tLoss: 6.541\tACC: 3.96%\n",
      "Step:   100\tLoss: 0.720\tACC: 81.19%\n",
      "Step:   200\tLoss: 0.384\tACC: 90.10%\n",
      "Step:   300\tLoss: 0.277\tACC: 93.07%\n",
      "Step:   400\tLoss: 0.218\tACC: 94.06%\n",
      "Step:   500\tLoss: 0.180\tACC: 96.04%\n",
      "Step:   600\tLoss: 0.154\tACC: 98.02%\n",
      "Step:   700\tLoss: 0.134\tACC: 98.02%\n",
      "Step:   800\tLoss: 0.119\tACC: 99.01%\n",
      "Step:   900\tLoss: 0.107\tACC: 99.01%\n",
      "Step:  1000\tLoss: 0.097\tACC: 99.01%\n",
      "Step:  1100\tLoss: 0.089\tACC: 100.00%\n",
      "Step:  1200\tLoss: 0.082\tACC: 100.00%\n",
      "Step:  1300\tLoss: 0.076\tACC: 100.00%\n",
      "Step:  1400\tLoss: 0.072\tACC: 100.00%\n",
      "Step:  1500\tLoss: 0.067\tACC: 100.00%\n",
      "Step:  1600\tLoss: 0.063\tACC: 100.00%\n",
      "Step:  1700\tLoss: 0.060\tACC: 100.00%\n",
      "Step:  1800\tLoss: 0.057\tACC: 100.00%\n",
      "Step:  1900\tLoss: 0.054\tACC: 100.00%\n",
      "[True] Prediction: 0 True Y: 0\n",
      "[True] Prediction: 0 True Y: 0\n",
      "[True] Prediction: 3 True Y: 3\n",
      "[True] Prediction: 0 True Y: 0\n",
      "[True] Prediction: 0 True Y: 0\n",
      "[True] Prediction: 0 True Y: 0\n",
      "[True] Prediction: 0 True Y: 0\n",
      "[True] Prediction: 3 True Y: 3\n",
      "[True] Prediction: 3 True Y: 3\n",
      "[True] Prediction: 0 True Y: 0\n",
      "[True] Prediction: 0 True Y: 0\n",
      "[True] Prediction: 1 True Y: 1\n",
      "[True] Prediction: 3 True Y: 3\n",
      "[True] Prediction: 6 True Y: 6\n",
      "[True] Prediction: 6 True Y: 6\n",
      "[True] Prediction: 6 True Y: 6\n",
      "[True] Prediction: 1 True Y: 1\n",
      "[True] Prediction: 0 True Y: 0\n",
      "[True] Prediction: 3 True Y: 3\n",
      "[True] Prediction: 0 True Y: 0\n",
      "[True] Prediction: 1 True Y: 1\n",
      "[True] Prediction: 1 True Y: 1\n",
      "[True] Prediction: 0 True Y: 0\n",
      "[True] Prediction: 1 True Y: 1\n",
      "[True] Prediction: 5 True Y: 5\n",
      "[True] Prediction: 4 True Y: 4\n",
      "[True] Prediction: 4 True Y: 4\n",
      "[True] Prediction: 0 True Y: 0\n",
      "[True] Prediction: 0 True Y: 0\n",
      "[True] Prediction: 0 True Y: 0\n",
      "[True] Prediction: 5 True Y: 5\n",
      "[True] Prediction: 0 True Y: 0\n",
      "[True] Prediction: 0 True Y: 0\n",
      "[True] Prediction: 1 True Y: 1\n",
      "[True] Prediction: 3 True Y: 3\n",
      "[True] Prediction: 0 True Y: 0\n",
      "[True] Prediction: 0 True Y: 0\n",
      "[True] Prediction: 1 True Y: 1\n",
      "[True] Prediction: 3 True Y: 3\n",
      "[True] Prediction: 5 True Y: 5\n",
      "[True] Prediction: 5 True Y: 5\n",
      "[True] Prediction: 1 True Y: 1\n",
      "[True] Prediction: 5 True Y: 5\n",
      "[True] Prediction: 1 True Y: 1\n",
      "[True] Prediction: 0 True Y: 0\n",
      "[True] Prediction: 0 True Y: 0\n",
      "[True] Prediction: 6 True Y: 6\n",
      "[True] Prediction: 0 True Y: 0\n",
      "[True] Prediction: 0 True Y: 0\n",
      "[True] Prediction: 0 True Y: 0\n",
      "[True] Prediction: 0 True Y: 0\n",
      "[True] Prediction: 5 True Y: 5\n",
      "[True] Prediction: 4 True Y: 4\n",
      "[True] Prediction: 6 True Y: 6\n",
      "[True] Prediction: 0 True Y: 0\n",
      "[True] Prediction: 0 True Y: 0\n",
      "[True] Prediction: 1 True Y: 1\n",
      "[True] Prediction: 1 True Y: 1\n",
      "[True] Prediction: 1 True Y: 1\n",
      "[True] Prediction: 1 True Y: 1\n",
      "[True] Prediction: 3 True Y: 3\n",
      "[True] Prediction: 3 True Y: 3\n",
      "[True] Prediction: 2 True Y: 2\n",
      "[True] Prediction: 0 True Y: 0\n",
      "[True] Prediction: 0 True Y: 0\n",
      "[True] Prediction: 0 True Y: 0\n",
      "[True] Prediction: 0 True Y: 0\n",
      "[True] Prediction: 0 True Y: 0\n",
      "[True] Prediction: 0 True Y: 0\n",
      "[True] Prediction: 0 True Y: 0\n",
      "[True] Prediction: 0 True Y: 0\n",
      "[True] Prediction: 1 True Y: 1\n",
      "[True] Prediction: 6 True Y: 6\n",
      "[True] Prediction: 3 True Y: 3\n",
      "[True] Prediction: 0 True Y: 0\n",
      "[True] Prediction: 0 True Y: 0\n",
      "[True] Prediction: 2 True Y: 2\n",
      "[True] Prediction: 6 True Y: 6\n",
      "[True] Prediction: 1 True Y: 1\n",
      "[True] Prediction: 1 True Y: 1\n",
      "[True] Prediction: 2 True Y: 2\n",
      "[True] Prediction: 6 True Y: 6\n",
      "[True] Prediction: 3 True Y: 3\n",
      "[True] Prediction: 1 True Y: 1\n",
      "[True] Prediction: 0 True Y: 0\n",
      "[True] Prediction: 6 True Y: 6\n",
      "[True] Prediction: 3 True Y: 3\n",
      "[True] Prediction: 1 True Y: 1\n",
      "[True] Prediction: 5 True Y: 5\n",
      "[True] Prediction: 4 True Y: 4\n",
      "[True] Prediction: 2 True Y: 2\n",
      "[True] Prediction: 2 True Y: 2\n",
      "[True] Prediction: 3 True Y: 3\n",
      "[True] Prediction: 0 True Y: 0\n",
      "[True] Prediction: 0 True Y: 0\n",
      "[True] Prediction: 1 True Y: 1\n",
      "[True] Prediction: 0 True Y: 0\n",
      "[True] Prediction: 5 True Y: 5\n",
      "[True] Prediction: 0 True Y: 0\n",
      "[True] Prediction: 6 True Y: 6\n",
      "[True] Prediction: 1 True Y: 1\n"
     ]
    }
   ],
   "source": [
    "with tf.Session() as sess:\n",
    "    sess.run(tf.global_variables_initializer())\n",
    "    \n",
    "    for step in range(2000):\n",
    "        sess.run(optimizer, feed_dict={X:x_data, Y:y_data})\n",
    "        if step % 100 == 0:\n",
    "            loss, acc = sess.run([cost, accuracy], feed_dict={X:x_data, Y:y_data})\n",
    "            print(\"Step: {:5}\\tLoss: {:.3f}\\tACC: {:.2%}\".format(step, loss, acc))\n",
    "    \n",
    "    pred = sess.run(prediction, feed_dict={X:x_data})\n",
    "    \n",
    "    for p,y in zip(pred, y_data.flatten()):\n",
    "        print(\"[{}] Prediction: {} True Y: {}\".format(p == int(y), p, int(y)))"
   ]
  },
  {
   "cell_type": "code",
   "execution_count": null,
   "metadata": {},
   "outputs": [],
   "source": []
  }
 ],
 "metadata": {
  "kernelspec": {
   "display_name": "Python [conda env:tensorflow]",
   "language": "python",
   "name": "conda-env-tensorflow-py"
  },
  "language_info": {
   "codemirror_mode": {
    "name": "ipython",
    "version": 3
   },
   "file_extension": ".py",
   "mimetype": "text/x-python",
   "name": "python",
   "nbconvert_exporter": "python",
   "pygments_lexer": "ipython3",
   "version": "3.6.5"
  }
 },
 "nbformat": 4,
 "nbformat_minor": 2
}
