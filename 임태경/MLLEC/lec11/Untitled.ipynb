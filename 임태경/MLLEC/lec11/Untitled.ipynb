{
 "cells": [
  {
   "cell_type": "markdown",
   "metadata": {},
   "source": [
    "# ConvNet의 Conv 레이어 만들기\n",
    "\n",
    "7*7 input에서 한칸씩움직이는 3*3의 필터로는 5*5의 output을 얻을수있는데 이때 한번에 움직이는 칸수를 stride라고한다.\n",
    "\n",
    "3*3 필터의 2 stride면 3*3의 output을 얻는다.\n",
    "\n",
    "### Output size:\n",
    "\n",
    "(N - F) / stride + 1 (N=전체크기,F=필터의크기)\n",
    "\n",
    "7*7에서 padding을 하게되면 9*9으로 변함 -> 7*7 output을 얻을수있음(f=3,stride=1)\n",
    "\n",
    "padding을 해서 원래 이미지의 크기와 output의 이미지의 크기를 같게만든다\n",
    "\n",
    "# ConvNet Max pooling 과 Full Network\n",
    "\n",
    "### pooling layer ( sampling )\n",
    "\n",
    "생성된 conv layer에서 한 layer만 뽑아낸다. 이 layer를 size를 축소시키는 작업을 pooling이라한다.\n",
    "\n",
    "이 pooling한 layer를 쌓는다.\n",
    "\n",
    "##### MAX POOLING\n",
    "\n",
    "4*4이미지에서 2*2필터에 stride=2\n",
    "\n",
    "2*2 output이 주어진다. 이때 나누어진 영역에서 가장큰값을 가져와서 하나의 축소된 layer를 재생성하는것이 max pooling이다.\n",
    "\n",
    "# ConvNet의 활용예\n",
    "\n",
    "### AlexNet\n",
    "\n",
    "처음으로 ReLU사용, 앙상블로 오류율을 떨어뜨렸다.\n",
    "\n",
    "# TensorFlow CNN Basics\n",
    "\n",
    "### Simple convolution layer\n",
    "\n",
    "3*3*1 image, 2*2*1 filter, stride 1"
   ]
  },
  {
   "cell_type": "code",
   "execution_count": 4,
   "metadata": {},
   "outputs": [],
   "source": [
    "import tensorflow as tf\n",
    "import numpy as np\n",
    "import matplotlib.pyplot as plt"
   ]
  },
  {
   "cell_type": "code",
   "execution_count": 5,
   "metadata": {},
   "outputs": [],
   "source": [
    "sess = tf.InteractiveSession()"
   ]
  },
  {
   "cell_type": "code",
   "execution_count": 6,
   "metadata": {},
   "outputs": [
    {
     "name": "stdout",
     "output_type": "stream",
     "text": [
      "(3, 3, 1)\n"
     ]
    },
    {
     "data": {
      "text/plain": [
       "<matplotlib.image.AxesImage at 0x2c0464ec0b8>"
      ]
     },
     "execution_count": 6,
     "metadata": {},
     "output_type": "execute_result"
    },
    {
     "data": {
      "image/png": "[encoded data removed]",
      "text/plain": [
       "<Figure size 432x288 with 1 Axes>"
      ]
     },
     "metadata": {},
     "output_type": "display_data"
    }
   ],
   "source": [
    "image = np.array([[[1],[2],[3]],[[4],[5],[6]],[[7],[8],[9]]], dtype=np.float32)\n",
    "print(image.shape)\n",
    "plt.imshow(image.reshape(3,3), cmap='Greys')"
   ]
  },
  {
   "cell_type": "markdown",
   "metadata": {},
   "source": [
    "Image : 1,3,3,1 image, Filter: 2,2,1,1, Stride:1*1, Padding: VALID\n",
    "\n",
    "1개의 3*3이미지 칼라는1개 // 필터의 크기 2*2, 칼라는 image와 동일, 사용할 filter의 개수\n",
    "\n",
    "padding값을 SAME으로 설정하면 알아서 입력과 출력의 사이즈를 맞춰준다."
   ]
  },
  {
   "cell_type": "code",
   "execution_count": null,
   "metadata": {},
   "outputs": [],
   "source": []
  }
 ],
 "metadata": {
  "kernelspec": {
   "display_name": "Python [conda env:tensorflow]",
   "language": "python",
   "name": "conda-env-tensorflow-py"
  },
  "language_info": {
   "codemirror_mode": {
    "name": "ipython",
    "version": 3
   },
   "file_extension": ".py",
   "mimetype": "text/x-python",
   "name": "python",
   "nbconvert_exporter": "python",
   "pygments_lexer": "ipython3",
   "version": "3.6.5"
  }
 },
 "nbformat": 4,
 "nbformat_minor": 2
}
