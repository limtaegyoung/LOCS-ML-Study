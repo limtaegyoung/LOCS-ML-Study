{
 "cells": [
  {
   "cell_type": "markdown",
   "metadata": {},
   "source": [
    "# Linear Regression 의 최소화와 TensorFlow 구현 2"
   ]
  },
  {
   "cell_type": "code",
   "execution_count": 1,
   "metadata": {},
   "outputs": [],
   "source": [
    "import tensorflow as tf\n",
    "x_data=[1,2,3]\n",
    "y_data=[1,2,3]\n",
    "W=tf.Variable(tf.random_normal([1]), name='weight')\n",
    "X=tf.placeholder(tf.float32)\n",
    "Y=tf.placeholder(tf.float32)"
   ]
  },
  {
   "cell_type": "code",
   "execution_count": 2,
   "metadata": {},
   "outputs": [],
   "source": [
    "hypothesis = X*W"
   ]
  },
  {
   "cell_type": "code",
   "execution_count": 3,
   "metadata": {},
   "outputs": [],
   "source": [
    "cost = tf.reduce_sum(tf.square(hypothesis-Y))"
   ]
  },
  {
   "cell_type": "code",
   "execution_count": 4,
   "metadata": {},
   "outputs": [],
   "source": [
    "learning_rate = 0.1\n",
    "gradient = tf.reduce_mean((W*X-Y)*X)\n",
    "descent = W-learning_rate * gradient\n",
    "update = W.assign(descent)"
   ]
  },
  {
   "cell_type": "code",
   "execution_count": 5,
   "metadata": {},
   "outputs": [],
   "source": [
    "sess = tf.Session()\n",
    "sess.run(tf.global_variables_initializer())"
   ]
  },
  {
   "cell_type": "code",
   "execution_count": 6,
   "metadata": {},
   "outputs": [
    {
     "name": "stdout",
     "output_type": "stream",
     "text": [
      "0 42.177067 [-0.735698]\n",
      "1 11.997032 [0.07429445]\n",
      "2 3.412489 [0.5062904]\n",
      "3 0.9706634 [0.7366882]\n",
      "4 0.27609992 [0.85956705]\n",
      "5 0.07853511 [0.9251024]\n",
      "6 0.022338849 [0.96005464]\n",
      "7 0.0063541667 [0.9786958]\n",
      "8 0.0018074075 [0.98863775]\n",
      "9 0.0005141109 [0.9939401]\n",
      "10 0.0001462352 [0.99676806]\n",
      "11 4.1595693e-05 [0.9982763]\n",
      "12 1.1832657e-05 [0.99908066]\n",
      "13 3.365975e-06 [0.9995097]\n",
      "14 9.571523e-07 [0.9997385]\n",
      "15 2.7234535e-07 [0.9998605]\n",
      "16 7.746712e-08 [0.9999256]\n",
      "17 2.2089992e-08 [0.9999603]\n",
      "18 6.2606667e-09 [0.99997884]\n",
      "19 1.7807231e-09 [0.99998873]\n",
      "20 5.0953375e-10 [0.999994]\n"
     ]
    }
   ],
   "source": [
    "for step in range(21):\n",
    "    sess.run(update, feed_dict={X:x_data, Y:y_data})\n",
    "    print(step, sess.run(cost, feed_dict={X:x_data, Y:y_data}), sess.run(W))"
   ]
  },
  {
   "cell_type": "markdown",
   "metadata": {},
   "source": [
    "cost함수가 간단해서 직접계산할수있지만 \n",
    "optimizer = tf.train.GradientDescentOptimizer(Learning_rate=0.1)\n",
    "train = optimizer.minimize(cost)\n",
    "를쓰면 cost를 미분하지않아도 자동으로 계산할수있음"
   ]
  }
 ],
 "metadata": {
  "kernelspec": {
   "display_name": "Python [conda env:tensorflow]",
   "language": "python",
   "name": "conda-env-tensorflow-py"
  },
  "language_info": {
   "codemirror_mode": {
    "name": "ipython",
    "version": 3
   },
   "file_extension": ".py",
   "mimetype": "text/x-python",
   "name": "python",
   "nbconvert_exporter": "python",
   "pygments_lexer": "ipython3",
   "version": "3.6.5"
  }
 },
 "nbformat": 4,
 "nbformat_minor": 2
}
