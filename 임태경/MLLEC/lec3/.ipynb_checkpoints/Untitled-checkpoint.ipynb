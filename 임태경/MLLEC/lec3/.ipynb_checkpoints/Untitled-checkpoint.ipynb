{
 "cells": [
  {
   "cell_type": "markdown",
   "metadata": {},
   "source": [
    "# Linear Regression의 cost 최소화 알고리즘의 원리 설명"
   ]
  },
  {
   "cell_type": "markdown",
   "metadata": {},
   "source": [
    "계산을 간단하게 하기위해\n",
    "\n",
    "H(x) = Wx + b에서 bias항을 없애고\n",
    "\n",
    "H(x) = Wx로 계산함\n",
    "\n",
    "W=1,cost(W)=?\n",
    "\n",
    " 1/3((1*1-1)^2 + (1*2-2)^2 + (1*3-3)^2#\n",
    " \n",
    "      0          0          0\n",
    "      \n",
    "W=0, cost(W)=4.67\n",
    "\n",
    "W=2, cost(W)=4.67\n",
    "\n",
    "cost가 가장 적은값을 찾는것이 목표<<\n",
    "\n",
    "Gradient descent algorithm(경사를따라 내려가는 알고리즘)\n",
    "주어진 cost function을 minimization하는데 주로사용함\n",
    "\n",
    "어떤 부분에서 시작하더라도 최소값에 도달할수있음(예외존재)\n",
    "\n",
    "W := W - a * a/aW * cost(W)\n",
    "\n",
    "a > learning let(?)\n",
    "\n",
    "미분 > 함수에서 한 점의 기울기를 구하는것\n",
    "\n",
    "convex function 3차원의 함수 모형에서 밥그릇모양의 함수\n",
    " -> 어느점에서 시작하더라도 원하는 최소값이 찾아짐\n",
    " -> cost function의 모양이 convex function이 되는지 확인해야함\n",
    " -> convex function 이라면 linear regression을 문제없이 구동가능"
   ]
  },
  {
   "cell_type": "code",
   "execution_count": null,
   "metadata": {},
   "outputs": [],
   "source": [
    "()"
   ]
  }
 ],
 "metadata": {
  "kernelspec": {
   "display_name": "Python [conda env:tensorflow]",
   "language": "python",
   "name": "conda-env-tensorflow-py"
  },
  "language_info": {
   "codemirror_mode": {
    "name": "ipython",
    "version": 3
   },
   "file_extension": ".py",
   "mimetype": "text/x-python",
   "name": "python",
   "nbconvert_exporter": "python",
   "pygments_lexer": "ipython3",
   "version": "3.6.5"
  }
 },
 "nbformat": 4,
 "nbformat_minor": 2
}
